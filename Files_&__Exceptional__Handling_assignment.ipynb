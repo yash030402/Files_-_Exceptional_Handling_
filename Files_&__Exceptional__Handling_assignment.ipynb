{
  "nbformat": 4,
  "nbformat_minor": 0,
  "metadata": {
    "colab": {
      "provenance": []
    },
    "kernelspec": {
      "name": "python3",
      "display_name": "Python 3"
    },
    "language_info": {
      "name": "python"
    }
  },
  "cells": [
    {
      "cell_type": "markdown",
      "source": [
        "Q1  Discuss the scenarios where multithreading is preferable to multiprocessing and scenarios where\n",
        "multiprocessing is a better choice ?"
      ],
      "metadata": {
        "id": "KPO_8vux4o9V"
      }
    },
    {
      "cell_type": "markdown",
      "source": [
        "ANS. When it comes to performance, the choice between multithreading and multiprocessing often depends on the nature of the task at hand:\n",
        "\n",
        "1. Multithreading:\n",
        "\n",
        "- I/O-bound tasks: Multithreading is preferable when dealing with I/O-bound tasks like file operations, web scraping, or network requests. These tasks spend a lot of time waiting for external resources, so having multiple threads can keep the CPU busy while waiting.\n",
        "\n",
        "- Shared memory space: If tasks need to share a lot of data or resources, multithreading can be more efficient because threads in the same process can share memory space easily.\n",
        "\n",
        "- Lower overhead: Creating and managing threads has less overhead compared to processes, making it suitable for lightweight tasks.\n",
        "\n",
        "2. Multiprocessing:\n",
        "\n",
        "- CPU-bound tasks: Multiprocessing is better for CPU-bound tasks where processes are heavily using the CPU, like complex calculations, data processing, or machine learning. Each process can run on a different CPU core, providing true parallelism.\n",
        "\n",
        "- Process isolation: If tasks need to be isolated from each other due to resource contention or security reasons, multiprocessing is the way to go. Each process runs in its own memory space, reducing the risk of data corruption.\n",
        "\n",
        "- Bypassing GIL: In Python, the Global Interpreter Lock (GIL) can be a bottleneck for CPU-bound tasks in multithreading. Multiprocessing spawns separate Python interpreter processes, allowing you to bypass the GIL and make full use of multiple cores."
      ],
      "metadata": {
        "id": "wksCcO9K4zr6"
      }
    },
    {
      "cell_type": "markdown",
      "source": [
        "Q2 Describe what a process pool is and how it helps in managing multiple processes efficiently ?"
      ],
      "metadata": {
        "id": "q2HXv8Tr5I1H"
      }
    },
    {
      "cell_type": "markdown",
      "source": [
        "ANS. A process pool is a collection of worker processes that are managed by a pool manager. Here's how it works and why it’s beneficial:\n",
        "\n",
        "- How It Works:\n",
        "\n",
        "1. Pooling Resources: A process pool creates a fixed number of processes in advance and keeps them ready to handle tasks.\n",
        "\n",
        "2. Task Assignment: When a task is submitted, it is assigned to an available process in the pool.\n",
        "\n",
        "3. Reusing Processes: Once a process completes its task, it becomes available for new tasks, avoiding the overhead of creating and destroying processes repeatedly.\n",
        "\n",
        "- Benefits:\n",
        "\n",
        "- Efficient Resource Management: Keeps a steady number of processes, reducing the overhead of process creation and destruction.\n",
        "\n",
        "- Load Balancing: Distributes tasks across multiple processes, ensuring efficient use of system resources.\n",
        "\n",
        "- Simplified Code: Abstracts the complexity of process management, allowing developers to focus on the tasks themselves rather than handling the process lifecycle.\n",
        "\n",
        "- Scalability: Easily scales to handle varying workloads by adjusting the number of processes in the pool."
      ],
      "metadata": {
        "id": "VS3cLHoA5m4q"
      }
    },
    {
      "cell_type": "markdown",
      "source": [
        "Q3  Explain what multiprocessing is and why it is used in Python programs?"
      ],
      "metadata": {
        "id": "QAikgWyY6Jg5"
      }
    },
    {
      "cell_type": "markdown",
      "source": [
        "ANS. Multiprocessing in Python is a technique that allows the execution of multiple processes simultaneously, enabling parallelism. Each process runs independently and has its own memory space, unlike threads which share the same memory.\n",
        "\n",
        "**Why It’s Used in Python Programs:**\n",
        "\n",
        "- Bypass the GIL: Python's Global Interpreter Lock (GIL) can be a bottleneck for CPU-bound tasks in multithreading. Multiprocessing spawns separate Python interpreter processes, allowing full utilization of multiple CPU cores and bypassing the GIL.\n",
        "\n",
        "- True Parallelism: It enables true parallel execution of tasks, making it ideal for computationally intensive operations, such as complex calculations, data processing, and machine learning tasks.\n",
        "\n",
        "- Improved Performance: By dividing tasks into multiple processes, you can significantly reduce execution time and improve the performance of your applications.\n",
        "\n",
        "- Isolation: Each process runs in its own memory space, reducing the risk of data corruption and making it easier to manage resources independently."
      ],
      "metadata": {
        "id": "dP-GRVCF6PSJ"
      }
    },
    {
      "cell_type": "markdown",
      "source": [
        "Q4  Write a Python program using multithreading where one thread adds numbers to a list, and another\n",
        "thread removes numbers from the list. Implement a mechanism to avoid race conditions using\n",
        "threading.Lock?"
      ],
      "metadata": {
        "id": "-AQMZKF36kW9"
      }
    },
    {
      "cell_type": "code",
      "source": [
        "import threading\n",
        "import time\n",
        "import random\n",
        "\n",
        "# Shared list\n",
        "numbers = []\n",
        "\n",
        "# Create a lock object\n",
        "lock = threading.Lock()\n",
        "\n",
        "def add_numbers():\n",
        "    for _ in range(10):\n",
        "        lock.acquire()\n",
        "        try:\n",
        "            num = random.randint(1, 100)\n",
        "            numbers.append(num)\n",
        "            print(f\"Added {num} to the list.\")\n",
        "        finally:\n",
        "            lock.release()\n",
        "        time.sleep(random.uniform(0.1, 0.5))\n",
        "\n",
        "def remove_numbers():\n",
        "    for _ in range(10):\n",
        "        lock.acquire()\n",
        "        try:\n",
        "            if numbers:\n",
        "                num = numbers.pop(0)\n",
        "                print(f\"Removed {num} from the list.\")\n",
        "        finally:\n",
        "            lock.release()\n",
        "        time.sleep(random.uniform(0.1, 0.5))\n",
        "\n",
        "# Create threads\n",
        "t1 = threading.Thread(target=add_numbers)\n",
        "t2 = threading.Thread(target=remove_numbers)\n",
        "\n",
        "# Start threads\n",
        "t1.start()\n",
        "t2.start()\n",
        "\n",
        "# Wait for both threads to complete\n",
        "t1.join()\n",
        "t2.join()\n",
        "\n",
        "print(\"Final list:\", numbers)\n"
      ],
      "metadata": {
        "colab": {
          "base_uri": "https://localhost:8080/"
        },
        "id": "WwBiUd7f6maU",
        "outputId": "a9c0e500-3a9e-4fbd-e4cf-917656252ed3"
      },
      "execution_count": null,
      "outputs": [
        {
          "output_type": "stream",
          "name": "stdout",
          "text": [
            "Added 7 to the list.\n",
            "Removed 7 from the list.\n",
            "Added 4 to the list.\n",
            "Removed 4 from the list.\n",
            "Added 99 to the list.\n",
            "Added 84 to the list.\n",
            "Removed 99 from the list.\n",
            "Added 52 to the list.\n",
            "Removed 84 from the list.\n",
            "Removed 52 from the list.\n",
            "Added 25 to the list.\n",
            "Removed 25 from the list.\n",
            "Added 41 to the list.\n",
            "Removed 41 from the list.\n",
            "Added 74 to the list.\n",
            "Removed 74 from the list.\n",
            "Added 76 to the list.\n",
            "Added 20 to the list.\n",
            "Final list: [76, 20]\n"
          ]
        }
      ]
    },
    {
      "cell_type": "markdown",
      "source": [
        "Q5  Describe the methods and tools available in Python for safely sharing data between threads and\n",
        "processes?"
      ],
      "metadata": {
        "id": "19_11G4V66zw"
      }
    },
    {
      "cell_type": "markdown",
      "source": [
        "ANS. Given multiple threads in the program and one wants to safely communicate or exchange data between them.\n",
        "\n",
        "Perhaps the safest way to send data from one thread to another is to use a Queue from the queue library. To do this, create a Queue instance that is shared by the threads. Threads then use put() or get() operations to add or remove items from the queue as shown in the code given below.\n",
        "\n",
        "Code #1 :"
      ],
      "metadata": {
        "id": "C6bMltdqUpBk"
      }
    },
    {
      "cell_type": "code",
      "source": [
        "from queue import Queue\n",
        "from threading import Thread\n",
        "\n",
        "# A thread that produces data\n",
        "def producer(out_q):\n",
        "\twhile True:\n",
        "\t\t# Produce some data\n",
        "\t\t...\n",
        "\t\tout_q.put(data)\n",
        "\n",
        "# A thread that consumes data\n",
        "def consumer(in_q):\n",
        "\twhile True:\n",
        "\t\t# Get some data\n",
        "\t\tdata = in_q.get()\n",
        "\t\t# Process the data\n",
        "\t\t...\n",
        "\n",
        "# Create the shared queue and launch both threads\n",
        "q = Queue()\n",
        "t1 = Thread(target = consumer, args =(q, ))\n",
        "t2 = Thread(target = producer, args =(q, ))\n",
        "t1.start()\n",
        "t2.start()\n"
      ],
      "metadata": {
        "colab": {
          "base_uri": "https://localhost:8080/"
        },
        "id": "szXpLO7vUsQc",
        "outputId": "a80dfa72-2036-4d94-dd0d-bfd823999943"
      },
      "execution_count": null,
      "outputs": [
        {
          "output_type": "stream",
          "name": "stderr",
          "text": [
            "Exception in thread Thread-11 (producer):\n",
            "Traceback (most recent call last):\n",
            "  File \"/usr/lib/python3.10/threading.py\", line 1016, in _bootstrap_inner\n",
            "    self.run()\n",
            "  File \"/usr/lib/python3.10/threading.py\", line 953, in run\n",
            "    self._target(*self._args, **self._kwargs)\n",
            "  File \"<ipython-input-2-72ee7c141c3d>\", line 9, in producer\n",
            "NameError: name 'data' is not defined\n"
          ]
        }
      ]
    },
    {
      "cell_type": "markdown",
      "source": [
        "Queue instances already have all of the required locking, so they can be safely shared by as many threads as per requirement. When using queues, it can be somewhat tricky to coordinate the shutdown of the producer and consumer.\n",
        "\n",
        "A common solution to this problem is to rely on a special sentinel value, which when placed in the queue, causes consumers to terminate as shown in the code below:\n",
        "\n",
        "Code #2 :"
      ],
      "metadata": {
        "id": "i9XklR_CU-v6"
      }
    },
    {
      "cell_type": "code",
      "source": [
        "from queue import Queue\n",
        "from threading import Thread\n",
        "\n",
        "# Object that signals shutdown\n",
        "_sentinel = object()\n",
        "\n",
        "# A thread that produces data\n",
        "def producer(out_q):\n",
        "\twhile running:\n",
        "\t\t# Produce some data\n",
        "\t\t...\n",
        "\t\tout_q.put(data)\n",
        "\n",
        "\t# Put the sentinel on the queue to indicate completion\n",
        "\tout_q.put(_sentinel)\n",
        "\n",
        "\n",
        "# A thread that consumes data\n",
        "def consumer(in_q):\n",
        "\twhile True:\n",
        "\t\t# Get some data\n",
        "\t\tdata = in_q.get()\n",
        "\n",
        "\t\t# Check for termination\n",
        "\t\tif data is _sentinel:\n",
        "\t\t\tin_q.put(_sentinel)\n",
        "\t\t\tbreak\n",
        "\t\t...\n"
      ],
      "metadata": {
        "id": "WEkdFHomU_77"
      },
      "execution_count": null,
      "outputs": []
    },
    {
      "cell_type": "markdown",
      "source": [
        "A subtle feature of the code above is that the consumer, upon receiving the special sentinel value, immediately places it back onto the queue. This propagates the sentinel to other consumers threads that might be listening on the same queue—thus shutting them all down one after the other.\n",
        "\n",
        "Although queues are the most common thread communication mechanism, one can build own data structures as long as one adds the required locking and synchronization. The most common way to do this is to wrap your data structures with a condition variable.\n",
        "\n",
        "Code #3 : Building a thread-safe priority queue"
      ],
      "metadata": {
        "id": "aXIqQDRfVEI-"
      }
    },
    {
      "cell_type": "code",
      "source": [
        "import heapq\n",
        "import threading\n",
        "\n",
        "class PriorityQueue:\n",
        "\tdef __init__(self):\n",
        "\t\tself._queue = []\n",
        "\t\tself._count = 0\n",
        "\t\tself._cv = threading.Condition()\n",
        "\n",
        "\tdef put(self, item, priority):\n",
        "\t\twith self._cv:\n",
        "\t\t\theapq.heappush(self._queue, (-priority, self._count, item))\n",
        "\t\t\tself._count += 1\n",
        "\t\t\tself._cv.notify()\n",
        "\n",
        "\tdef get(self):\n",
        "\t\twith self._cv:\n",
        "\t\t\twhile len(self._queue) == 0:\n",
        "\t\t\t\tself._cv.wait()\n",
        "\t\t\treturn heapq.heappop(self._queue)[-1]\n"
      ],
      "metadata": {
        "id": "AK5gGpFsVGtv"
      },
      "execution_count": null,
      "outputs": []
    },
    {
      "cell_type": "markdown",
      "source": [
        "Thread communication with a queue is a one-way and non-deterministic process. In general, there is no way to know when the receiving thread has actually received a message and worked on it. However, Queue objects do provide some basic completion features, as illustrated by the task_done() and join() methods in the example given below –\n",
        "\n",
        "Code #4 :"
      ],
      "metadata": {
        "id": "GbEdLylJVLMq"
      }
    },
    {
      "cell_type": "code",
      "source": [
        "from queue import Queue\n",
        "from threading import Thread\n",
        "\n",
        "# A thread that produces data\n",
        "def producer(out_q):\n",
        "\twhile running:\n",
        "\t\t# Produce some data\n",
        "\t\t...\n",
        "\t\tout_q.put(data)\n",
        "\n",
        "# A thread that consumes data\n",
        "def consumer(in_q):\n",
        "\twhile True:\n",
        "\t\t# Get some data\n",
        "\t\tdata = in_q.get()\n",
        "\t\t# Process the data\n",
        "\t\t...\n",
        "\t\t# Indicate completion\n",
        "\t\tin_q.task_done()\n",
        "\n",
        "# Create the shared queue and launch both threads\n",
        "q = Queue()\n",
        "t1 = Thread(target = consumer, args =(q, ))\n",
        "t2 = Thread(target = producer, args =(q, ))\n",
        "t1.start()\n",
        "t2.start()\n",
        "\n",
        "# Wait for all produced items to be consumed\n",
        "q.join()\n"
      ],
      "metadata": {
        "colab": {
          "base_uri": "https://localhost:8080/"
        },
        "id": "AuOBLGJzVLpB",
        "outputId": "fcde8cb0-f41e-4b7b-e616-fbdea4fc8a32"
      },
      "execution_count": null,
      "outputs": [
        {
          "output_type": "stream",
          "name": "stderr",
          "text": [
            "Exception in thread Thread-13 (producer):\n",
            "Traceback (most recent call last):\n",
            "  File \"/usr/lib/python3.10/threading.py\", line 1016, in _bootstrap_inner\n",
            "    self.run()\n",
            "  File \"/usr/lib/python3.10/threading.py\", line 953, in run\n",
            "    self._target(*self._args, **self._kwargs)\n",
            "  File \"<ipython-input-5-aba1feb56bee>\", line 6, in producer\n",
            "NameError: name 'running' is not defined\n"
          ]
        }
      ]
    },
    {
      "cell_type": "markdown",
      "source": [
        "Q6  Discuss why it’s crucial to handle exceptions in concurrent programs and the techniques available for\n",
        "doing so ?"
      ],
      "metadata": {
        "id": "0V7LQDrVVR5G"
      }
    },
    {
      "cell_type": "markdown",
      "source": [
        "ANS. **Handling exceptions in concurrent programs is crucial for several reasons**:\n",
        "\n",
        "**Why It's Crucial:**\n",
        "\n",
        "1. Stability: Without proper exception handling, an unhandled exception in one thread or process can cause the entire program to crash, leading to unexpected downtime and potential data loss.\n",
        "\n",
        "2. Debugging: Proper exception handling helps in debugging by capturing the exception details, making it easier to diagnose and fix issues.\n",
        "\n",
        "3. Resource Management: Unhandled exceptions can lead to resource leaks (e.g., open files, network connections) if resources aren't properly released.\n",
        "\n",
        "4. User Experience: For user-facing applications, exceptions need to be handled gracefully to avoid abrupt crashes and provide meaningful error messages or fallback mechanisms.\n",
        "\n",
        "**Techniques Available:**\n",
        "\n",
        "Try-Except Blocks:\n",
        "\n",
        "Use try-except blocks to catch and handle exceptions.\n",
        "\n",
        "Example:"
      ],
      "metadata": {
        "id": "czOotIgPVhcQ"
      }
    },
    {
      "cell_type": "code",
      "source": [
        "a = [1, 2, 3]\n",
        "try:\n",
        "    print (\"Second element = %d\" %(a[1]))\n",
        "\n",
        "    print (\"Fourth element = %d\" %(a[3]))\n",
        "\n",
        "except:\n",
        "    print (\"An error occurred\")\n"
      ],
      "metadata": {
        "colab": {
          "base_uri": "https://localhost:8080/"
        },
        "id": "M0XQ-Ce_WSSR",
        "outputId": "33c055ca-01f0-43ca-a1b7-a4a0c40cb53b"
      },
      "execution_count": null,
      "outputs": [
        {
          "output_type": "stream",
          "name": "stdout",
          "text": [
            "Second element = 2\n",
            "An error occurred\n"
          ]
        }
      ]
    },
    {
      "cell_type": "markdown",
      "source": [
        "**Try with Else Clause**\n",
        "\n",
        "In Python, you can also use the else clause on the try-except block which must be present after all the except clauses. The code enters the else block only if the try clause does not raise an exception.\n",
        "\n",
        "Try with else clause\n",
        "\n",
        "The code defines a function AbyB(a, b) that calculates c as ((a+b) / (a-b)) and handles a potential ZeroDivisionError. It prints the result if there’s no division by zero error. Calling AbyB(2.0, 3.0) calculates and prints -5.0, while calling AbyB(3.0, 3.0) attempts to divide by zero, resulting in a ZeroDivisionError, which is caught and “a/b results in 0” is printed."
      ],
      "metadata": {
        "id": "Aju0HOXO6KJH"
      }
    },
    {
      "cell_type": "code",
      "source": [
        "def AbyB(a , b):\n",
        "    try:\n",
        "        c = ((a+b) / (a-b))\n",
        "    except ZeroDivisionError:\n",
        "        print (\"a/b result in 0\")\n",
        "    else:\n",
        "        print (c)\n",
        "AbyB(2.0, 3.0)\n",
        "AbyB(3.0, 3.0)\n"
      ],
      "metadata": {
        "colab": {
          "base_uri": "https://localhost:8080/"
        },
        "id": "jhBJ4Gqa6PKa",
        "outputId": "4dfa018e-99f2-4c92-809d-1b0acef6d4db"
      },
      "execution_count": 1,
      "outputs": [
        {
          "output_type": "stream",
          "name": "stdout",
          "text": [
            "-5.0\n",
            "a/b result in 0\n"
          ]
        }
      ]
    },
    {
      "cell_type": "markdown",
      "source": [
        "**Finally Keyword in Python**\n",
        "\n",
        "Python provides a keyword finally, which is always executed after the try and except blocks. The final block always executes after the normal termination of the try block or after the try block terminates due to some exception. The code within the finally block is always executed."
      ],
      "metadata": {
        "id": "UTRU4CRE6ZgH"
      }
    },
    {
      "cell_type": "code",
      "source": [
        "try:\n",
        "    k = 5//0\n",
        "    print(k)\n",
        "\n",
        "except ZeroDivisionError:\n",
        "    print(\"Can't divide by zero\")\n",
        "\n",
        "finally:\n",
        "    print('This is always executed')\n"
      ],
      "metadata": {
        "colab": {
          "base_uri": "https://localhost:8080/"
        },
        "id": "Yf9EAmRe6cX7",
        "outputId": "57d81404-b671-407c-d8e2-6655da58da8c"
      },
      "execution_count": 2,
      "outputs": [
        {
          "output_type": "stream",
          "name": "stdout",
          "text": [
            "Can't divide by zero\n",
            "This is always executed\n"
          ]
        }
      ]
    },
    {
      "cell_type": "markdown",
      "source": [
        "**Raising Exception**\n",
        "\n",
        "The raise statement allows the programmer to force a specific exception to occur. The sole argument in raise indicates the exception to be raised. This must be either an exception instance or an exception class (a class that derives from Exception)."
      ],
      "metadata": {
        "id": "r2JxE9gQ6lA7"
      }
    },
    {
      "cell_type": "code",
      "source": [
        "try:\n",
        "  raise NameError(\"Hi there\")\n",
        "except NameError:\n",
        "    print (\"An exception\")\n",
        "    raise"
      ],
      "metadata": {
        "colab": {
          "base_uri": "https://localhost:8080/",
          "height": 237
        },
        "id": "gmy4R_ct6n7N",
        "outputId": "4ee48f2e-d239-414a-b381-a436c4b4da81"
      },
      "execution_count": 4,
      "outputs": [
        {
          "output_type": "stream",
          "name": "stdout",
          "text": [
            "An exception\n"
          ]
        },
        {
          "output_type": "error",
          "ename": "NameError",
          "evalue": "Hi there",
          "traceback": [
            "\u001b[0;31m---------------------------------------------------------------------------\u001b[0m",
            "\u001b[0;31mNameError\u001b[0m                                 Traceback (most recent call last)",
            "\u001b[0;32m<ipython-input-4-1d8ce4fddfc8>\u001b[0m in \u001b[0;36m<cell line: 1>\u001b[0;34m()\u001b[0m\n\u001b[1;32m      1\u001b[0m \u001b[0;32mtry\u001b[0m\u001b[0;34m:\u001b[0m\u001b[0;34m\u001b[0m\u001b[0;34m\u001b[0m\u001b[0m\n\u001b[0;32m----> 2\u001b[0;31m   \u001b[0;32mraise\u001b[0m \u001b[0mNameError\u001b[0m\u001b[0;34m(\u001b[0m\u001b[0;34m\"Hi there\"\u001b[0m\u001b[0;34m)\u001b[0m\u001b[0;34m\u001b[0m\u001b[0;34m\u001b[0m\u001b[0m\n\u001b[0m\u001b[1;32m      3\u001b[0m \u001b[0;32mexcept\u001b[0m \u001b[0mNameError\u001b[0m\u001b[0;34m:\u001b[0m\u001b[0;34m\u001b[0m\u001b[0;34m\u001b[0m\u001b[0m\n\u001b[1;32m      4\u001b[0m     \u001b[0mprint\u001b[0m \u001b[0;34m(\u001b[0m\u001b[0;34m\"An exception\"\u001b[0m\u001b[0;34m)\u001b[0m\u001b[0;34m\u001b[0m\u001b[0;34m\u001b[0m\u001b[0m\n\u001b[1;32m      5\u001b[0m     \u001b[0;32mraise\u001b[0m\u001b[0;34m\u001b[0m\u001b[0;34m\u001b[0m\u001b[0m\n",
            "\u001b[0;31mNameError\u001b[0m: Hi there"
          ]
        }
      ]
    },
    {
      "cell_type": "markdown",
      "source": [
        "The output of the above code will simply line printed as “An exception” but a Runtime error will also occur in the last due to the raise statement in the last line."
      ],
      "metadata": {
        "id": "Sv43MFZs7AkK"
      }
    },
    {
      "cell_type": "markdown",
      "source": [
        "Q7  Create a program that uses a thread pool to calculate the factorial of numbers from 1 to 10 concurrently.\n",
        "Use concurrent.futures.ThreadPoolExecutor to manage the threads ?"
      ],
      "metadata": {
        "id": "tN8Vmml07KyS"
      }
    },
    {
      "cell_type": "code",
      "source": [
        "import concurrent.futures\n",
        "import math\n",
        "\n",
        "# Function to calculate factorial\n",
        "def factorial(n):\n",
        "    return math.factorial(n)\n",
        "\n",
        "# List of numbers to calculate factorial\n",
        "numbers = list(range(1, 11))\n",
        "\n",
        "# Using ThreadPoolExecutor to manage threads\n",
        "with concurrent.futures.ThreadPoolExecutor() as executor:\n",
        "    results = executor.map(factorial, numbers)\n",
        "\n",
        "# Display the results\n",
        "for number, result in zip(numbers, results):\n",
        "    print(f\"Factorial of {number} is {result}\")\n"
      ],
      "metadata": {
        "colab": {
          "base_uri": "https://localhost:8080/"
        },
        "id": "d-aWN1V07MvL",
        "outputId": "0774b68a-896a-4591-d9a2-24526d774f8d"
      },
      "execution_count": 5,
      "outputs": [
        {
          "output_type": "stream",
          "name": "stdout",
          "text": [
            "Factorial of 1 is 1\n",
            "Factorial of 2 is 2\n",
            "Factorial of 3 is 6\n",
            "Factorial of 4 is 24\n",
            "Factorial of 5 is 120\n",
            "Factorial of 6 is 720\n",
            "Factorial of 7 is 5040\n",
            "Factorial of 8 is 40320\n",
            "Factorial of 9 is 362880\n",
            "Factorial of 10 is 3628800\n"
          ]
        }
      ]
    },
    {
      "cell_type": "markdown",
      "source": [
        " Q8 Create a Python program that uses multiprocessing.Pool to compute the square of numbers from 1 to 10 in\n",
        "parallel. Measure the time taken to perform this computation using a pool of different sizes (e.g., 2, 4, 8\n",
        "processes) ?"
      ],
      "metadata": {
        "id": "VgJkHKDK7dkZ"
      }
    },
    {
      "cell_type": "code",
      "source": [
        "import multiprocessing\n",
        "import time\n",
        "\n",
        "# Function to compute square\n",
        "def compute_square(n):\n",
        "    return n * n\n",
        "\n",
        "# List of numbers to compute squares\n",
        "numbers = list(range(1, 11))\n",
        "\n",
        "# Function to measure time taken with different pool sizes\n",
        "def measure_time(pool_size):\n",
        "    with multiprocessing.Pool(processes=pool_size) as pool:\n",
        "        start_time = time.time()\n",
        "        results = pool.map(compute_square, numbers)\n",
        "        end_time = time.time()\n",
        "        duration = end_time - start_time\n",
        "    return duration, results\n",
        "\n",
        "# Measure time taken for pool sizes 2, 4, and 8\n",
        "for pool_size in [2, 4, 8]:\n",
        "    duration, results = measure_time(pool_size)\n",
        "    print(f\"Pool size: {pool_size}\")\n",
        "    print(f\"Time taken: {duration:.4f} seconds\")\n",
        "    print(f\"Results: {results}\\n\")\n"
      ],
      "metadata": {
        "colab": {
          "base_uri": "https://localhost:8080/"
        },
        "id": "bLv9lTnB7hsh",
        "outputId": "aff7c49f-4e78-493d-a67b-eb820dcba578"
      },
      "execution_count": 6,
      "outputs": [
        {
          "output_type": "stream",
          "name": "stdout",
          "text": [
            "Pool size: 2\n",
            "Time taken: 0.0025 seconds\n",
            "Results: [1, 4, 9, 16, 25, 36, 49, 64, 81, 100]\n",
            "\n",
            "Pool size: 4\n",
            "Time taken: 0.0043 seconds\n",
            "Results: [1, 4, 9, 16, 25, 36, 49, 64, 81, 100]\n",
            "\n",
            "Pool size: 8\n",
            "Time taken: 0.0028 seconds\n",
            "Results: [1, 4, 9, 16, 25, 36, 49, 64, 81, 100]\n",
            "\n"
          ]
        }
      ]
    },
    {
      "cell_type": "code",
      "source": [],
      "metadata": {
        "id": "wKebx98a7kuI"
      },
      "execution_count": null,
      "outputs": []
    }
  ]
}